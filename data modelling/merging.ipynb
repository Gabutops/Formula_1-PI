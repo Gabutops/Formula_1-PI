{
 "cells": [
  {
   "cell_type": "code",
   "execution_count": null,
   "metadata": {
    "ExecuteTime": {
     "end_time": "2020-05-09T11:44:29.928757Z",
     "start_time": "2020-05-09T11:44:29.676568Z"
    }
   },
   "outputs": [],
   "source": [
    "import pandas as pd\n",
    "import numpy as np"
   ]
  },
  {
   "cell_type": "code",
   "execution_count": null,
   "metadata": {
    "ExecuteTime": {
     "end_time": "2020-05-09T11:44:30.574362Z",
     "start_time": "2020-05-09T11:44:30.438443Z"
    }
   },
   "outputs": [],
   "source": [
    "races = pd.read_csv('../data collection/races.csv')\n",
    "results = pd.read_csv('../data collection/results.csv')\n",
    "qualifying = pd.read_csv('../data collection/qualifying.csv')\n",
    "driver_standings = pd.read_csv('../data collection/driver_standings.csv')\n",
    "constructor_standings = pd.read_csv('../data collection/constructor_standings.csv')\n",
    "weather = pd.read_csv('../data collection/weather.csv',sep=\",\")"
   ]
  },
  {
   "cell_type": "code",
   "execution_count": null,
   "metadata": {
    "ExecuteTime": {
     "end_time": "2020-05-09T11:44:31.617568Z",
     "start_time": "2020-05-09T11:44:31.587118Z"
    }
   },
   "outputs": [],
   "source": [
    "print(races.shape)\n",
    "races.head()"
   ]
  },
  {
   "cell_type": "code",
   "execution_count": null,
   "metadata": {
    "ExecuteTime": {
     "end_time": "2020-05-09T11:44:32.704668Z",
     "start_time": "2020-05-09T11:44:32.675650Z"
    }
   },
   "outputs": [],
   "source": [
    "print(results.shape)\n",
    "results.head()"
   ]
  },
  {
   "cell_type": "code",
   "execution_count": null,
   "metadata": {
    "ExecuteTime": {
     "end_time": "2020-05-09T11:44:33.810512Z",
     "start_time": "2020-05-09T11:44:33.790824Z"
    }
   },
   "outputs": [],
   "source": [
    "print(qualifying.shape)\n",
    "qualifying.rename(columns = {'grid_position': 'grid'}, inplace = True)\n",
    "qualifying.head()"
   ]
  },
  {
   "cell_type": "code",
   "execution_count": null,
   "metadata": {
    "ExecuteTime": {
     "end_time": "2020-05-09T11:44:34.825638Z",
     "start_time": "2020-05-09T11:44:34.805493Z"
    }
   },
   "outputs": [],
   "source": [
    "driver_standings.drop(['driver_points_after_race', 'driver_wins_after_race', 'driver_standings_pos_after_race'] ,axis = 1, inplace = True)\n",
    "\n",
    "print(driver_standings.shape)\n",
    "driver_standings.head()"
   ]
  },
  {
   "cell_type": "code",
   "execution_count": null,
   "metadata": {
    "ExecuteTime": {
     "end_time": "2020-05-09T11:44:35.847377Z",
     "start_time": "2020-05-09T11:44:35.825676Z"
    }
   },
   "outputs": [],
   "source": [
    "constructor_standings.drop(['constructor_points_after_race', 'constructor_wins_after_race','constructor_standings_pos_after_race' ],axis = 1, inplace = True)\n",
    "\n",
    "print(constructor_standings.shape)\n",
    "constructor_standings.head()"
   ]
  },
  {
   "cell_type": "code",
   "execution_count": null,
   "metadata": {
    "ExecuteTime": {
     "end_time": "2020-05-09T11:44:36.775822Z",
     "start_time": "2020-05-09T11:44:36.751736Z"
    }
   },
   "outputs": [],
   "source": [
    "print(weather.shape)\n",
    "weather.head()"
   ]
  },
  {
   "cell_type": "code",
   "execution_count": null,
   "metadata": {
    "ExecuteTime": {
     "end_time": "2020-05-09T11:44:37.818374Z",
     "start_time": "2020-05-09T11:44:37.678610Z"
    }
   },
   "outputs": [],
   "source": [
    "df1 = pd.merge(races, weather, how='inner', on=['season', 'round', 'circuit_id']).drop(['lat', 'long','country','weather'], axis = 1)\n",
    "df2 = pd.merge(df1, results, how='inner', on=['season', 'round', 'circuit_id', 'url']).drop(['url','points', 'status', 'time'], axis = 1)\n",
    "\n",
    "df3 = pd.merge(df2, driver_standings, how='left', on=['season', 'round', 'driver']) \n",
    "df4 = pd.merge(df3, constructor_standings, how='left', on=['season', 'round', 'constructor']) #from 1958\n",
    "\n",
    "final_df = pd.merge(df4, qualifying, how='inner', on=['season', 'round', 'grid']).drop(['driver_name', 'car'], axis = 1) #from 1983\n"
   ]
  },
  {
   "cell_type": "code",
   "execution_count": null,
   "metadata": {
    "ExecuteTime": {
     "end_time": "2020-05-09T11:44:39.695077Z",
     "start_time": "2020-05-09T11:44:39.664110Z"
    }
   },
   "outputs": [],
   "source": [
    "final_df.head()"
   ]
  },
  {
   "cell_type": "code",
   "execution_count": null,
   "metadata": {
    "ExecuteTime": {
     "end_time": "2020-05-09T11:44:43.078224Z",
     "start_time": "2020-05-09T11:44:41.546103Z"
    }
   },
   "outputs": [],
   "source": [
    "# calculando as idades dos pilotos\n",
    "\n",
    "from dateutil.relativedelta import *\n",
    "\n",
    "final_df['date'] = pd.to_datetime(final_df.date)\n",
    "final_df['date_of_birth'] = pd.to_datetime(final_df.date_of_birth)\n",
    "final_df['driver_age'] = final_df.apply(lambda x: relativedelta(x['date'], x['date_of_birth']).years, axis=1)\n",
    "final_df.drop(['date', 'date_of_birth'], axis = 1, inplace = True)"
   ]
  },
  {
   "cell_type": "code",
   "execution_count": null,
   "metadata": {
    "ExecuteTime": {
     "end_time": "2020-05-09T11:44:45.014156Z",
     "start_time": "2020-05-09T11:44:44.947000Z"
    }
   },
   "outputs": [],
   "source": [
    "# Preenchendo/dropando os nulls\n",
    "\n",
    "for col in ['driver_points', 'driver_wins', 'driver_standings_pos', 'constructor_points', \n",
    "            'constructor_wins' , 'constructor_standings_pos']:\n",
    "    final_df[col].fillna(0, inplace = True)\n",
    "    final_df[col] = final_df[col].map(lambda x: int(x))\n",
    "    \n",
    "final_df.dropna(inplace = True )"
   ]
  },
  {
   "cell_type": "code",
   "execution_count": null,
   "metadata": {
    "ExecuteTime": {
     "end_time": "2020-05-09T11:44:46.766854Z",
     "start_time": "2020-05-09T11:44:46.733840Z"
    }
   },
   "outputs": [],
   "source": [
    "# Convertendo para Boleano\n",
    "\n",
    "for col in ['weather_warm', 'weather_cold','weather_dry', 'weather_wet', 'weather_cloudy']:\n",
    "    final_df[col] = final_df[col].map(lambda x: bool(x))\n"
   ]
  },
  {
   "cell_type": "code",
   "execution_count": null,
   "metadata": {},
   "outputs": [],
   "source": [
    "final_df = final_df[final_df['qualifying_time'] != 0]"
   ]
  },
  {
   "cell_type": "code",
   "execution_count": null,
   "metadata": {},
   "outputs": [],
   "source": [
    "final_df[final_df['qualifying_time'] != 0]"
   ]
  },
  {
   "cell_type": "code",
   "execution_count": null,
   "metadata": {},
   "outputs": [],
   "source": [
    "#Função para converter o tempo de qualificação da vitória em segundos\n",
    "def TimeToSec(Time):\n",
    "    if (':' in Time):\n",
    "        t=Time.split(':')\n",
    "        ts=float(t[0])*60*60+float(t[1])*60\n",
    "    else:\n",
    "        ts=float(Time)*60\n",
    "    return ts"
   ]
  },
  {
   "cell_type": "code",
   "execution_count": null,
   "metadata": {
    "ExecuteTime": {
     "end_time": "2020-05-09T11:44:48.787635Z",
     "start_time": "2020-05-09T11:44:48.600662Z"
    }
   },
   "outputs": [],
   "source": [
    "# calculando a diference em tempo de qualificação\n",
    "\n",
    "final_df['qualifying_time']=final_df.apply(lambda row: TimeToSec(row['qualifying_time']),axis=1)\n",
    "final_df = final_df[final_df['qualifying_time'] != 0]\n",
    "final_df.sort_values(['season', 'round', 'grid'], inplace = True)\n",
    "final_df['qualifying_time_diff'] = final_df.groupby(['season', 'round']).qualifying_time.diff()\n",
    "final_df['qualifying_time'] = final_df.groupby(['season', 'round']).qualifying_time_diff.cumsum().fillna(0)\n",
    "final_df.drop('qualifying_time_diff', axis = 1, inplace = True)\n"
   ]
  },
  {
   "cell_type": "code",
   "execution_count": null,
   "metadata": {
    "ExecuteTime": {
     "end_time": "2020-05-09T11:44:50.807283Z",
     "start_time": "2020-05-09T11:44:50.569533Z"
    }
   },
   "outputs": [],
   "source": [
    "# get dummies\n",
    "\n",
    "df_dum = pd.get_dummies(final_df, columns = ['circuit_id', 'nationality', 'constructor'] )\n",
    "\n",
    "for col in df_dum.columns:\n",
    "    if 'nationality' in col and df_dum[col].sum() < 140:\n",
    "        df_dum.drop(col, axis = 1, inplace = True)\n",
    "        \n",
    "    elif 'constructor' in col and df_dum[col].sum() < 140:\n",
    "        df_dum.drop(col, axis = 1, inplace = True)\n",
    "        \n",
    "    elif 'circuit_id' in col and df_dum[col].sum() < 70:\n",
    "        df_dum.drop(col, axis = 1, inplace = True)\n",
    "    \n",
    "    else:\n",
    "        pass"
   ]
  },
  {
   "cell_type": "code",
   "execution_count": null,
   "metadata": {
    "ExecuteTime": {
     "end_time": "2020-05-09T11:45:11.724554Z",
     "start_time": "2020-05-09T11:45:11.717565Z"
    }
   },
   "outputs": [],
   "source": [
    "df_dum.shape"
   ]
  },
  {
   "cell_type": "code",
   "execution_count": null,
   "metadata": {
    "ExecuteTime": {
     "end_time": "2020-05-09T11:45:24.554162Z",
     "start_time": "2020-05-09T11:45:24.277357Z"
    }
   },
   "outputs": [],
   "source": [
    "df_dum.to_csv('final_df.csv', index = False)"
   ]
  }
 ],
 "metadata": {
  "kernelspec": {
   "display_name": "Python 3.10.2 64-bit (system)",
   "language": "python",
   "name": "python3"
  },
  "language_info": {
   "codemirror_mode": {
    "name": "ipython",
    "version": 3
   },
   "file_extension": ".py",
   "mimetype": "text/x-python",
   "name": "python",
   "nbconvert_exporter": "python",
   "pygments_lexer": "ipython3",
   "version": "3.10.2"
  },
  "toc": {
   "base_numbering": 1,
   "nav_menu": {},
   "number_sections": true,
   "sideBar": true,
   "skip_h1_title": false,
   "title_cell": "Table of Contents",
   "title_sidebar": "Contents",
   "toc_cell": false,
   "toc_position": {},
   "toc_section_display": true,
   "toc_window_display": false
  },
  "varInspector": {
   "cols": {
    "lenName": 16,
    "lenType": 16,
    "lenVar": 40
   },
   "kernels_config": {
    "python": {
     "delete_cmd_postfix": "",
     "delete_cmd_prefix": "del ",
     "library": "var_list.py",
     "varRefreshCmd": "print(var_dic_list())"
    },
    "r": {
     "delete_cmd_postfix": ") ",
     "delete_cmd_prefix": "rm(",
     "library": "var_list.r",
     "varRefreshCmd": "cat(var_dic_list()) "
    }
   },
   "types_to_exclude": [
    "module",
    "function",
    "builtin_function_or_method",
    "instance",
    "_Feature"
   ],
   "window_display": false
  },
  "vscode": {
   "interpreter": {
    "hash": "f7a46ec85383697a079a896a0aadd9dbef0132c306140cce314d2aa428244328"
   }
  }
 },
 "nbformat": 4,
 "nbformat_minor": 4
}
