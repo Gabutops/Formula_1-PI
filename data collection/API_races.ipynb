{
 "cells": [
  {
   "cell_type": "code",
   "execution_count": null,
   "metadata": {
    "ExecuteTime": {
     "end_time": "2020-04-25T12:49:48.888320Z",
     "start_time": "2020-04-25T12:49:48.310499Z"
    }
   },
   "outputs": [],
   "source": [
    "import pandas as pd\n",
    "import numpy as np\n",
    "from pprint import pprint\n",
    "import requests"
   ]
  },
  {
   "cell_type": "code",
   "execution_count": null,
   "metadata": {
    "ExecuteTime": {
     "end_time": "2020-04-25T13:27:54.994708Z",
     "start_time": "2020-04-25T13:27:54.978105Z"
    }
   },
   "outputs": [],
   "source": [
    "# I will use this function later to calculate points and wins prior to the race\n",
    "\n",
    "def lookup (df, team, points):\n",
    "    df['lookup1'] = df.season.astype(str) + df[team] + df['round'].astype(str)\n",
    "    df['lookup2'] = df.season.astype(str) + df[team] + (df['round']-1).astype(str)\n",
    "    new_df = df.merge(df[['lookup1', points]], how = 'left', left_on='lookup2',right_on='lookup1')\n",
    "    new_df.drop(['lookup1_x', 'lookup2', 'lookup1_y'], axis = 1, inplace = True)\n",
    "    new_df.rename(columns = {points+'_x': points+'_after_race', points+'_y': points}, inplace = True)\n",
    "    new_df[points].fillna(0, inplace = True)\n",
    "    return new_df\n",
    "   "
   ]
  },
  {
   "cell_type": "markdown",
   "metadata": {
    "heading_collapsed": true
   },
   "source": [
    "## Races"
   ]
  },
  {
   "cell_type": "code",
   "execution_count": null,
   "metadata": {},
   "outputs": [],
   "source": [
    "races = {'season': [],\n",
    "        'round': [],\n",
    "        'circuit_id': [],\n",
    "        'lat': [],\n",
    "        'long': [],\n",
    "        'country': [],\n",
    "        'date': [],\n",
    "        'url': []\n",
    "        }"
   ]
  },
  {
   "cell_type": "code",
   "execution_count": null,
   "metadata": {},
   "outputs": [
    {
     "data": {
      "text/plain": [
       "{'season': [],\n",
       " 'round': [],\n",
       " 'circuit_id': [],\n",
       " 'lat': [],\n",
       " 'long': [],\n",
       " 'country': [],\n",
       " 'date': [],\n",
       " 'url': []}"
      ]
     },
     "execution_count": 29,
     "metadata": {},
     "output_type": "execute_result"
    }
   ],
   "source": [
    "races"
   ]
  },
  {
   "cell_type": "code",
   "execution_count": 30,
   "metadata": {
    "ExecuteTime": {
     "end_time": "2020-04-25T12:50:17.193075Z",
     "start_time": "2020-04-25T12:50:03.155636Z"
    },
    "hidden": true,
    "scrolled": false
   },
   "outputs": [
    {
     "name": "stdout",
     "output_type": "stream",
     "text": [
      "(39, 8)\n"
     ]
    }
   ],
   "source": [
    "\n",
    "\n",
    "for year in list(range(2020,2022)):\n",
    "    \n",
    "    url = 'https://ergast.com/api/f1/{}.json'\n",
    "    r = requests.get(url.format(year))\n",
    "    json = r.json()\n",
    "\n",
    "    for item in json['MRData']['RaceTable']['Races']:\n",
    "        try:\n",
    "            races['season'].append(int(item['season']))\n",
    "        except:\n",
    "            races['season'].append(None)\n",
    "\n",
    "        try:\n",
    "            races['round'].append(int(item['round']))\n",
    "        except:\n",
    "            races['round'].append(None)\n",
    "\n",
    "        try:\n",
    "            races['circuit_id'].append(item['Circuit']['circuitId'])\n",
    "        except:\n",
    "            races['circuit_id'].append(None)\n",
    "\n",
    "        try:\n",
    "            races['lat'].append(float(item['Circuit']['Location']['lat']))\n",
    "        except:\n",
    "            races['lat'].append(None)\n",
    "\n",
    "        try:\n",
    "            races['long'].append(float(item['Circuit']['Location']['long']))\n",
    "        except:\n",
    "            races['long'].append(None)\n",
    "\n",
    "        try:\n",
    "            races['country'].append(item['Circuit']['Location']['country'])\n",
    "        except:\n",
    "            races['country'].append(None)\n",
    "\n",
    "        try:\n",
    "            races['date'].append(item['date'])\n",
    "        except:\n",
    "            races['date'].append(None)\n",
    "\n",
    "        try:\n",
    "            races['url'].append(item['url'])\n",
    "        except:\n",
    "            races['url'].append(None)\n",
    "        \n",
    "races = pd.DataFrame(races)\n",
    "print(races.shape)"
   ]
  },
  {
   "cell_type": "code",
   "execution_count": 31,
   "metadata": {
    "ExecuteTime": {
     "end_time": "2020-04-25T13:01:14.737380Z",
     "start_time": "2020-04-25T13:01:14.709906Z"
    },
    "hidden": true
   },
   "outputs": [
    {
     "data": {
      "text/html": [
       "<div>\n",
       "<style scoped>\n",
       "    .dataframe tbody tr th:only-of-type {\n",
       "        vertical-align: middle;\n",
       "    }\n",
       "\n",
       "    .dataframe tbody tr th {\n",
       "        vertical-align: top;\n",
       "    }\n",
       "\n",
       "    .dataframe thead th {\n",
       "        text-align: right;\n",
       "    }\n",
       "</style>\n",
       "<table border=\"1\" class=\"dataframe\">\n",
       "  <thead>\n",
       "    <tr style=\"text-align: right;\">\n",
       "      <th></th>\n",
       "      <th>season</th>\n",
       "      <th>round</th>\n",
       "      <th>circuit_id</th>\n",
       "      <th>lat</th>\n",
       "      <th>long</th>\n",
       "      <th>country</th>\n",
       "      <th>date</th>\n",
       "      <th>url</th>\n",
       "    </tr>\n",
       "  </thead>\n",
       "  <tbody>\n",
       "    <tr>\n",
       "      <th>0</th>\n",
       "      <td>2020</td>\n",
       "      <td>1</td>\n",
       "      <td>red_bull_ring</td>\n",
       "      <td>47.2197</td>\n",
       "      <td>14.76470</td>\n",
       "      <td>Austria</td>\n",
       "      <td>2020-07-05</td>\n",
       "      <td>http://en.wikipedia.org/wiki/2020_Austrian_Gra...</td>\n",
       "    </tr>\n",
       "    <tr>\n",
       "      <th>1</th>\n",
       "      <td>2020</td>\n",
       "      <td>2</td>\n",
       "      <td>red_bull_ring</td>\n",
       "      <td>47.2197</td>\n",
       "      <td>14.76470</td>\n",
       "      <td>Austria</td>\n",
       "      <td>2020-07-12</td>\n",
       "      <td>http://en.wikipedia.org/wiki/2020_Styrian_Gran...</td>\n",
       "    </tr>\n",
       "    <tr>\n",
       "      <th>2</th>\n",
       "      <td>2020</td>\n",
       "      <td>3</td>\n",
       "      <td>hungaroring</td>\n",
       "      <td>47.5789</td>\n",
       "      <td>19.24860</td>\n",
       "      <td>Hungary</td>\n",
       "      <td>2020-07-19</td>\n",
       "      <td>http://en.wikipedia.org/wiki/2020_Hungarian_Gr...</td>\n",
       "    </tr>\n",
       "    <tr>\n",
       "      <th>3</th>\n",
       "      <td>2020</td>\n",
       "      <td>4</td>\n",
       "      <td>silverstone</td>\n",
       "      <td>52.0786</td>\n",
       "      <td>-1.01694</td>\n",
       "      <td>UK</td>\n",
       "      <td>2020-08-02</td>\n",
       "      <td>http://en.wikipedia.org/wiki/2020_British_Gran...</td>\n",
       "    </tr>\n",
       "    <tr>\n",
       "      <th>4</th>\n",
       "      <td>2020</td>\n",
       "      <td>5</td>\n",
       "      <td>silverstone</td>\n",
       "      <td>52.0786</td>\n",
       "      <td>-1.01694</td>\n",
       "      <td>UK</td>\n",
       "      <td>2020-08-09</td>\n",
       "      <td>http://en.wikipedia.org/wiki/70th_Anniversary_...</td>\n",
       "    </tr>\n",
       "  </tbody>\n",
       "</table>\n",
       "</div>"
      ],
      "text/plain": [
       "   season  round     circuit_id      lat      long  country        date  \\\n",
       "0    2020      1  red_bull_ring  47.2197  14.76470  Austria  2020-07-05   \n",
       "1    2020      2  red_bull_ring  47.2197  14.76470  Austria  2020-07-12   \n",
       "2    2020      3    hungaroring  47.5789  19.24860  Hungary  2020-07-19   \n",
       "3    2020      4    silverstone  52.0786  -1.01694       UK  2020-08-02   \n",
       "4    2020      5    silverstone  52.0786  -1.01694       UK  2020-08-09   \n",
       "\n",
       "                                                 url  \n",
       "0  http://en.wikipedia.org/wiki/2020_Austrian_Gra...  \n",
       "1  http://en.wikipedia.org/wiki/2020_Styrian_Gran...  \n",
       "2  http://en.wikipedia.org/wiki/2020_Hungarian_Gr...  \n",
       "3  http://en.wikipedia.org/wiki/2020_British_Gran...  \n",
       "4  http://en.wikipedia.org/wiki/70th_Anniversary_...  "
      ]
     },
     "execution_count": 31,
     "metadata": {},
     "output_type": "execute_result"
    }
   ],
   "source": [
    "races.head()"
   ]
  },
  {
   "cell_type": "code",
   "execution_count": 32,
   "metadata": {
    "ExecuteTime": {
     "end_time": "2020-04-25T13:01:36.003880Z",
     "start_time": "2020-04-25T13:01:35.985653Z"
    },
    "hidden": true
   },
   "outputs": [
    {
     "data": {
      "text/html": [
       "<div>\n",
       "<style scoped>\n",
       "    .dataframe tbody tr th:only-of-type {\n",
       "        vertical-align: middle;\n",
       "    }\n",
       "\n",
       "    .dataframe tbody tr th {\n",
       "        vertical-align: top;\n",
       "    }\n",
       "\n",
       "    .dataframe thead th {\n",
       "        text-align: right;\n",
       "    }\n",
       "</style>\n",
       "<table border=\"1\" class=\"dataframe\">\n",
       "  <thead>\n",
       "    <tr style=\"text-align: right;\">\n",
       "      <th></th>\n",
       "      <th>season</th>\n",
       "      <th>round</th>\n",
       "      <th>circuit_id</th>\n",
       "      <th>lat</th>\n",
       "      <th>long</th>\n",
       "      <th>country</th>\n",
       "      <th>date</th>\n",
       "      <th>url</th>\n",
       "    </tr>\n",
       "  </thead>\n",
       "  <tbody>\n",
       "    <tr>\n",
       "      <th>34</th>\n",
       "      <td>2021</td>\n",
       "      <td>18</td>\n",
       "      <td>rodriguez</td>\n",
       "      <td>19.4042</td>\n",
       "      <td>-99.0907</td>\n",
       "      <td>Mexico</td>\n",
       "      <td>2021-11-07</td>\n",
       "      <td>http://en.wikipedia.org/wiki/2021_Mexican_Gran...</td>\n",
       "    </tr>\n",
       "    <tr>\n",
       "      <th>35</th>\n",
       "      <td>2021</td>\n",
       "      <td>19</td>\n",
       "      <td>interlagos</td>\n",
       "      <td>-23.7036</td>\n",
       "      <td>-46.6997</td>\n",
       "      <td>Brazil</td>\n",
       "      <td>2021-11-14</td>\n",
       "      <td>http://en.wikipedia.org/wiki/2021_S%C3%A3o_Pau...</td>\n",
       "    </tr>\n",
       "    <tr>\n",
       "      <th>36</th>\n",
       "      <td>2021</td>\n",
       "      <td>20</td>\n",
       "      <td>losail</td>\n",
       "      <td>25.4900</td>\n",
       "      <td>51.4542</td>\n",
       "      <td>Qatar</td>\n",
       "      <td>2021-11-21</td>\n",
       "      <td>http://en.wikipedia.org/wiki/2021_Qatar_Grand_...</td>\n",
       "    </tr>\n",
       "    <tr>\n",
       "      <th>37</th>\n",
       "      <td>2021</td>\n",
       "      <td>21</td>\n",
       "      <td>jeddah</td>\n",
       "      <td>21.6319</td>\n",
       "      <td>39.1044</td>\n",
       "      <td>Saudi Arabia</td>\n",
       "      <td>2021-12-05</td>\n",
       "      <td>http://en.wikipedia.org/wiki/2021_Saudi_Arabia...</td>\n",
       "    </tr>\n",
       "    <tr>\n",
       "      <th>38</th>\n",
       "      <td>2021</td>\n",
       "      <td>22</td>\n",
       "      <td>yas_marina</td>\n",
       "      <td>24.4672</td>\n",
       "      <td>54.6031</td>\n",
       "      <td>UAE</td>\n",
       "      <td>2021-12-12</td>\n",
       "      <td>http://en.wikipedia.org/wiki/2021_Abu_Dhabi_Gr...</td>\n",
       "    </tr>\n",
       "  </tbody>\n",
       "</table>\n",
       "</div>"
      ],
      "text/plain": [
       "    season  round  circuit_id      lat     long       country        date  \\\n",
       "34    2021     18   rodriguez  19.4042 -99.0907        Mexico  2021-11-07   \n",
       "35    2021     19  interlagos -23.7036 -46.6997        Brazil  2021-11-14   \n",
       "36    2021     20      losail  25.4900  51.4542         Qatar  2021-11-21   \n",
       "37    2021     21      jeddah  21.6319  39.1044  Saudi Arabia  2021-12-05   \n",
       "38    2021     22  yas_marina  24.4672  54.6031           UAE  2021-12-12   \n",
       "\n",
       "                                                  url  \n",
       "34  http://en.wikipedia.org/wiki/2021_Mexican_Gran...  \n",
       "35  http://en.wikipedia.org/wiki/2021_S%C3%A3o_Pau...  \n",
       "36  http://en.wikipedia.org/wiki/2021_Qatar_Grand_...  \n",
       "37  http://en.wikipedia.org/wiki/2021_Saudi_Arabia...  \n",
       "38  http://en.wikipedia.org/wiki/2021_Abu_Dhabi_Gr...  "
      ]
     },
     "execution_count": 32,
     "metadata": {},
     "output_type": "execute_result"
    }
   ],
   "source": [
    "races.tail()"
   ]
  },
  {
   "cell_type": "code",
   "execution_count": 33,
   "metadata": {
    "ExecuteTime": {
     "end_time": "2020-04-25T13:01:53.430287Z",
     "start_time": "2020-04-25T13:01:53.411759Z"
    },
    "hidden": true
   },
   "outputs": [],
   "source": [
    "races.to_csv('races.csv', index = False)"
   ]
  },
  {
   "cell_type": "markdown",
   "metadata": {
    "heading_collapsed": true
   },
   "source": [
    "## Rounds"
   ]
  },
  {
   "cell_type": "code",
   "execution_count": 35,
   "metadata": {
    "ExecuteTime": {
     "end_time": "2020-04-25T13:02:15.368846Z",
     "start_time": "2020-04-25T13:02:15.355941Z"
    },
    "hidden": true
   },
   "outputs": [],
   "source": [
    "race = pd.read_csv('races2.csv')"
   ]
  },
  {
   "cell_type": "code",
   "execution_count": 64,
   "metadata": {
    "ExecuteTime": {
     "end_time": "2020-04-25T13:02:58.902514Z",
     "start_time": "2020-04-25T13:02:58.829981Z"
    },
    "hidden": true
   },
   "outputs": [],
   "source": [
    "rounds = []\n",
    "for year in np.array(race.season.unique()):\n",
    "    rounds.append([year, list(race[race.season == year]['round'])])"
   ]
  },
  {
   "cell_type": "code",
   "execution_count": 65,
   "metadata": {
    "ExecuteTime": {
     "end_time": "2020-04-25T13:03:41.361231Z",
     "start_time": "2020-04-25T13:03:41.353880Z"
    },
    "hidden": true
   },
   "outputs": [
    {
     "data": {
      "text/plain": [
       "[[2020, [1, 2, 3, 4, 5, 6, 7, 8, 9, 10, 11, 12, 13, 14, 15, 16, 17]],\n",
       " [2021,\n",
       "  [1,\n",
       "   2,\n",
       "   3,\n",
       "   4,\n",
       "   5,\n",
       "   6,\n",
       "   7,\n",
       "   8,\n",
       "   9,\n",
       "   10,\n",
       "   11,\n",
       "   12,\n",
       "   13,\n",
       "   14,\n",
       "   15,\n",
       "   16,\n",
       "   17,\n",
       "   18,\n",
       "   19,\n",
       "   20,\n",
       "   21,\n",
       "   22]]]"
      ]
     },
     "execution_count": 65,
     "metadata": {},
     "output_type": "execute_result"
    }
   ],
   "source": [
    "rounds[:5]"
   ]
  },
  {
   "cell_type": "markdown",
   "metadata": {
    "heading_collapsed": true
   },
   "source": [
    "## Results"
   ]
  },
  {
   "cell_type": "code",
   "execution_count": 66,
   "metadata": {
    "ExecuteTime": {
     "end_time": "2020-04-25T13:11:14.823092Z",
     "start_time": "2020-04-25T13:04:22.678839Z"
    },
    "hidden": true
   },
   "outputs": [
    {
     "name": "stdout",
     "output_type": "stream",
     "text": [
      "(780, 13)\n"
     ]
    }
   ],
   "source": [
    "results = {'season': [],\n",
    "          'round':[],\n",
    "           'circuit_id':[],\n",
    "          'driver': [],\n",
    "           'date_of_birth': [],\n",
    "           'nationality': [],\n",
    "          'constructor': [],\n",
    "          'grid': [],\n",
    "          'time': [],\n",
    "          'status': [],\n",
    "          'points': [],\n",
    "          'podium': [],\n",
    "          'url': []}\n",
    "\n",
    "for n in list(range(len(rounds))):\n",
    "    for i in rounds[n][1]:\n",
    "    \n",
    "        url = 'http://ergast.com/api/f1/{}/{}/results.json'\n",
    "        r = requests.get(url.format(rounds[n][0], i))\n",
    "        json = r.json()\n",
    "\n",
    "        for item in json['MRData']['RaceTable']['Races'][0]['Results']:\n",
    "            try:\n",
    "                results['season'].append(int(json['MRData']['RaceTable']['Races'][0]['season']))\n",
    "            except:\n",
    "                results['season'].append(None)\n",
    "\n",
    "            try:\n",
    "                results['round'].append(int(json['MRData']['RaceTable']['Races'][0]['round']))\n",
    "            except:\n",
    "                results['round'].append(None)\n",
    "\n",
    "            try:\n",
    "                results['circuit_id'].append(json['MRData']['RaceTable']['Races'][0]['Circuit']['circuitId'])\n",
    "            except:\n",
    "                results['circuit_id'].append(None)\n",
    "\n",
    "            try:\n",
    "                results['driver'].append(item['Driver']['driverId'])\n",
    "            except:\n",
    "                results['driver'].append(None)\n",
    "            \n",
    "            try:\n",
    "                results['date_of_birth'].append(item['Driver']['dateOfBirth'])\n",
    "            except:\n",
    "                results['date_of_birth'].append(None)\n",
    "                \n",
    "            try:\n",
    "                results['nationality'].append(item['Driver']['nationality'])\n",
    "            except:\n",
    "                results['nationality'].append(None)\n",
    "\n",
    "            try:\n",
    "                results['constructor'].append(item['Constructor']['constructorId'])\n",
    "            except:\n",
    "                results['constructor'].append(None)\n",
    "\n",
    "            try:\n",
    "                results['grid'].append(int(item['grid']))\n",
    "            except:\n",
    "                results['grid'].append(None)\n",
    "\n",
    "            try:\n",
    "                results['time'].append(int(item['Time']['millis']))\n",
    "            except:\n",
    "                results['time'].append(None)\n",
    "\n",
    "            try:\n",
    "                results['status'].append(item['status'])\n",
    "            except:\n",
    "                results['status'].append(None)\n",
    "\n",
    "            try:\n",
    "                results['points'].append(int(item['points']))\n",
    "            except:\n",
    "                results['points'].append(None)\n",
    "\n",
    "            try:\n",
    "                results['podium'].append(int(item['position']))\n",
    "            except:\n",
    "                results['podium'].append(None)\n",
    "\n",
    "            try:\n",
    "                results['url'].append(json['MRData']['RaceTable']['Races'][0]['url'])\n",
    "            except:\n",
    "                results['url'].append(None)\n",
    "\n",
    "results = pd.DataFrame(results)\n",
    "print(results.shape)"
   ]
  },
  {
   "cell_type": "code",
   "execution_count": 39,
   "metadata": {
    "ExecuteTime": {
     "end_time": "2020-04-25T13:12:16.232036Z",
     "start_time": "2020-04-25T13:12:16.211050Z"
    },
    "hidden": true
   },
   "outputs": [
    {
     "data": {
      "text/html": [
       "<div>\n",
       "<style scoped>\n",
       "    .dataframe tbody tr th:only-of-type {\n",
       "        vertical-align: middle;\n",
       "    }\n",
       "\n",
       "    .dataframe tbody tr th {\n",
       "        vertical-align: top;\n",
       "    }\n",
       "\n",
       "    .dataframe thead th {\n",
       "        text-align: right;\n",
       "    }\n",
       "</style>\n",
       "<table border=\"1\" class=\"dataframe\">\n",
       "  <thead>\n",
       "    <tr style=\"text-align: right;\">\n",
       "      <th></th>\n",
       "      <th>season</th>\n",
       "      <th>round</th>\n",
       "      <th>circuit_id</th>\n",
       "      <th>driver</th>\n",
       "      <th>date_of_birth</th>\n",
       "      <th>nationality</th>\n",
       "      <th>constructor</th>\n",
       "      <th>grid</th>\n",
       "      <th>time</th>\n",
       "      <th>status</th>\n",
       "      <th>points</th>\n",
       "      <th>podium</th>\n",
       "      <th>url</th>\n",
       "    </tr>\n",
       "  </thead>\n",
       "  <tbody>\n",
       "    <tr>\n",
       "      <th>0</th>\n",
       "      <td>2020</td>\n",
       "      <td>1</td>\n",
       "      <td>red_bull_ring</td>\n",
       "      <td>bottas</td>\n",
       "      <td>1989-08-28</td>\n",
       "      <td>Finnish</td>\n",
       "      <td>mercedes</td>\n",
       "      <td>1</td>\n",
       "      <td>5455739.0</td>\n",
       "      <td>Finished</td>\n",
       "      <td>25.0</td>\n",
       "      <td>1</td>\n",
       "      <td>http://en.wikipedia.org/wiki/2020_Austrian_Gra...</td>\n",
       "    </tr>\n",
       "    <tr>\n",
       "      <th>1</th>\n",
       "      <td>2020</td>\n",
       "      <td>1</td>\n",
       "      <td>red_bull_ring</td>\n",
       "      <td>leclerc</td>\n",
       "      <td>1997-10-16</td>\n",
       "      <td>Monegasque</td>\n",
       "      <td>ferrari</td>\n",
       "      <td>7</td>\n",
       "      <td>5458439.0</td>\n",
       "      <td>Finished</td>\n",
       "      <td>18.0</td>\n",
       "      <td>2</td>\n",
       "      <td>http://en.wikipedia.org/wiki/2020_Austrian_Gra...</td>\n",
       "    </tr>\n",
       "    <tr>\n",
       "      <th>2</th>\n",
       "      <td>2020</td>\n",
       "      <td>1</td>\n",
       "      <td>red_bull_ring</td>\n",
       "      <td>norris</td>\n",
       "      <td>1999-11-13</td>\n",
       "      <td>British</td>\n",
       "      <td>mclaren</td>\n",
       "      <td>3</td>\n",
       "      <td>5461230.0</td>\n",
       "      <td>Finished</td>\n",
       "      <td>16.0</td>\n",
       "      <td>3</td>\n",
       "      <td>http://en.wikipedia.org/wiki/2020_Austrian_Gra...</td>\n",
       "    </tr>\n",
       "    <tr>\n",
       "      <th>3</th>\n",
       "      <td>2020</td>\n",
       "      <td>1</td>\n",
       "      <td>red_bull_ring</td>\n",
       "      <td>hamilton</td>\n",
       "      <td>1985-01-07</td>\n",
       "      <td>British</td>\n",
       "      <td>mercedes</td>\n",
       "      <td>5</td>\n",
       "      <td>5461428.0</td>\n",
       "      <td>Finished</td>\n",
       "      <td>12.0</td>\n",
       "      <td>4</td>\n",
       "      <td>http://en.wikipedia.org/wiki/2020_Austrian_Gra...</td>\n",
       "    </tr>\n",
       "    <tr>\n",
       "      <th>4</th>\n",
       "      <td>2020</td>\n",
       "      <td>1</td>\n",
       "      <td>red_bull_ring</td>\n",
       "      <td>sainz</td>\n",
       "      <td>1994-09-01</td>\n",
       "      <td>Spanish</td>\n",
       "      <td>mclaren</td>\n",
       "      <td>8</td>\n",
       "      <td>5464642.0</td>\n",
       "      <td>Finished</td>\n",
       "      <td>10.0</td>\n",
       "      <td>5</td>\n",
       "      <td>http://en.wikipedia.org/wiki/2020_Austrian_Gra...</td>\n",
       "    </tr>\n",
       "  </tbody>\n",
       "</table>\n",
       "</div>"
      ],
      "text/plain": [
       "   season  round     circuit_id    driver date_of_birth nationality  \\\n",
       "0    2020      1  red_bull_ring    bottas    1989-08-28     Finnish   \n",
       "1    2020      1  red_bull_ring   leclerc    1997-10-16  Monegasque   \n",
       "2    2020      1  red_bull_ring    norris    1999-11-13     British   \n",
       "3    2020      1  red_bull_ring  hamilton    1985-01-07     British   \n",
       "4    2020      1  red_bull_ring     sainz    1994-09-01     Spanish   \n",
       "\n",
       "  constructor  grid       time    status  points  podium  \\\n",
       "0    mercedes     1  5455739.0  Finished    25.0       1   \n",
       "1     ferrari     7  5458439.0  Finished    18.0       2   \n",
       "2     mclaren     3  5461230.0  Finished    16.0       3   \n",
       "3    mercedes     5  5461428.0  Finished    12.0       4   \n",
       "4     mclaren     8  5464642.0  Finished    10.0       5   \n",
       "\n",
       "                                                 url  \n",
       "0  http://en.wikipedia.org/wiki/2020_Austrian_Gra...  \n",
       "1  http://en.wikipedia.org/wiki/2020_Austrian_Gra...  \n",
       "2  http://en.wikipedia.org/wiki/2020_Austrian_Gra...  \n",
       "3  http://en.wikipedia.org/wiki/2020_Austrian_Gra...  \n",
       "4  http://en.wikipedia.org/wiki/2020_Austrian_Gra...  "
      ]
     },
     "execution_count": 39,
     "metadata": {},
     "output_type": "execute_result"
    }
   ],
   "source": [
    "results.head()"
   ]
  },
  {
   "cell_type": "code",
   "execution_count": 40,
   "metadata": {
    "ExecuteTime": {
     "end_time": "2020-04-25T13:12:20.950021Z",
     "start_time": "2020-04-25T13:12:20.922617Z"
    },
    "hidden": true
   },
   "outputs": [
    {
     "data": {
      "text/html": [
       "<div>\n",
       "<style scoped>\n",
       "    .dataframe tbody tr th:only-of-type {\n",
       "        vertical-align: middle;\n",
       "    }\n",
       "\n",
       "    .dataframe tbody tr th {\n",
       "        vertical-align: top;\n",
       "    }\n",
       "\n",
       "    .dataframe thead th {\n",
       "        text-align: right;\n",
       "    }\n",
       "</style>\n",
       "<table border=\"1\" class=\"dataframe\">\n",
       "  <thead>\n",
       "    <tr style=\"text-align: right;\">\n",
       "      <th></th>\n",
       "      <th>season</th>\n",
       "      <th>round</th>\n",
       "      <th>circuit_id</th>\n",
       "      <th>driver</th>\n",
       "      <th>date_of_birth</th>\n",
       "      <th>nationality</th>\n",
       "      <th>constructor</th>\n",
       "      <th>grid</th>\n",
       "      <th>time</th>\n",
       "      <th>status</th>\n",
       "      <th>points</th>\n",
       "      <th>podium</th>\n",
       "      <th>url</th>\n",
       "    </tr>\n",
       "  </thead>\n",
       "  <tbody>\n",
       "    <tr>\n",
       "      <th>775</th>\n",
       "      <td>2021</td>\n",
       "      <td>22</td>\n",
       "      <td>yas_marina</td>\n",
       "      <td>latifi</td>\n",
       "      <td>1995-06-29</td>\n",
       "      <td>Canadian</td>\n",
       "      <td>williams</td>\n",
       "      <td>16</td>\n",
       "      <td>NaN</td>\n",
       "      <td>Accident</td>\n",
       "      <td>0.0</td>\n",
       "      <td>16</td>\n",
       "      <td>http://en.wikipedia.org/wiki/2021_Abu_Dhabi_Gr...</td>\n",
       "    </tr>\n",
       "    <tr>\n",
       "      <th>776</th>\n",
       "      <td>2021</td>\n",
       "      <td>22</td>\n",
       "      <td>yas_marina</td>\n",
       "      <td>giovinazzi</td>\n",
       "      <td>1993-12-14</td>\n",
       "      <td>Italian</td>\n",
       "      <td>alfa</td>\n",
       "      <td>14</td>\n",
       "      <td>NaN</td>\n",
       "      <td>Gearbox</td>\n",
       "      <td>0.0</td>\n",
       "      <td>17</td>\n",
       "      <td>http://en.wikipedia.org/wiki/2021_Abu_Dhabi_Gr...</td>\n",
       "    </tr>\n",
       "    <tr>\n",
       "      <th>777</th>\n",
       "      <td>2021</td>\n",
       "      <td>22</td>\n",
       "      <td>yas_marina</td>\n",
       "      <td>russell</td>\n",
       "      <td>1998-02-15</td>\n",
       "      <td>British</td>\n",
       "      <td>williams</td>\n",
       "      <td>17</td>\n",
       "      <td>NaN</td>\n",
       "      <td>Gearbox</td>\n",
       "      <td>0.0</td>\n",
       "      <td>18</td>\n",
       "      <td>http://en.wikipedia.org/wiki/2021_Abu_Dhabi_Gr...</td>\n",
       "    </tr>\n",
       "    <tr>\n",
       "      <th>778</th>\n",
       "      <td>2021</td>\n",
       "      <td>22</td>\n",
       "      <td>yas_marina</td>\n",
       "      <td>raikkonen</td>\n",
       "      <td>1979-10-17</td>\n",
       "      <td>Finnish</td>\n",
       "      <td>alfa</td>\n",
       "      <td>18</td>\n",
       "      <td>NaN</td>\n",
       "      <td>Brakes</td>\n",
       "      <td>0.0</td>\n",
       "      <td>19</td>\n",
       "      <td>http://en.wikipedia.org/wiki/2021_Abu_Dhabi_Gr...</td>\n",
       "    </tr>\n",
       "    <tr>\n",
       "      <th>779</th>\n",
       "      <td>2021</td>\n",
       "      <td>22</td>\n",
       "      <td>yas_marina</td>\n",
       "      <td>mazepin</td>\n",
       "      <td>1999-03-02</td>\n",
       "      <td>Russian</td>\n",
       "      <td>haas</td>\n",
       "      <td>20</td>\n",
       "      <td>NaN</td>\n",
       "      <td>Illness</td>\n",
       "      <td>0.0</td>\n",
       "      <td>20</td>\n",
       "      <td>http://en.wikipedia.org/wiki/2021_Abu_Dhabi_Gr...</td>\n",
       "    </tr>\n",
       "  </tbody>\n",
       "</table>\n",
       "</div>"
      ],
      "text/plain": [
       "     season  round  circuit_id      driver date_of_birth nationality  \\\n",
       "775    2021     22  yas_marina      latifi    1995-06-29    Canadian   \n",
       "776    2021     22  yas_marina  giovinazzi    1993-12-14     Italian   \n",
       "777    2021     22  yas_marina     russell    1998-02-15     British   \n",
       "778    2021     22  yas_marina   raikkonen    1979-10-17     Finnish   \n",
       "779    2021     22  yas_marina     mazepin    1999-03-02     Russian   \n",
       "\n",
       "    constructor  grid  time    status  points  podium  \\\n",
       "775    williams    16   NaN  Accident     0.0      16   \n",
       "776        alfa    14   NaN   Gearbox     0.0      17   \n",
       "777    williams    17   NaN   Gearbox     0.0      18   \n",
       "778        alfa    18   NaN    Brakes     0.0      19   \n",
       "779        haas    20   NaN   Illness     0.0      20   \n",
       "\n",
       "                                                   url  \n",
       "775  http://en.wikipedia.org/wiki/2021_Abu_Dhabi_Gr...  \n",
       "776  http://en.wikipedia.org/wiki/2021_Abu_Dhabi_Gr...  \n",
       "777  http://en.wikipedia.org/wiki/2021_Abu_Dhabi_Gr...  \n",
       "778  http://en.wikipedia.org/wiki/2021_Abu_Dhabi_Gr...  \n",
       "779  http://en.wikipedia.org/wiki/2021_Abu_Dhabi_Gr...  "
      ]
     },
     "execution_count": 40,
     "metadata": {},
     "output_type": "execute_result"
    }
   ],
   "source": [
    "results.tail()"
   ]
  },
  {
   "cell_type": "code",
   "execution_count": 41,
   "metadata": {
    "ExecuteTime": {
     "end_time": "2020-04-25T13:12:25.269394Z",
     "start_time": "2020-04-25T13:12:25.097317Z"
    },
    "hidden": true
   },
   "outputs": [],
   "source": [
    "results.to_csv('results2.csv', index = False)"
   ]
  },
  {
   "cell_type": "markdown",
   "metadata": {
    "ExecuteTime": {
     "end_time": "2020-04-24T14:50:58.332851Z",
     "start_time": "2020-04-24T14:50:58.329415Z"
    },
    "heading_collapsed": true
   },
   "source": [
    "## Driver Standings"
   ]
  },
  {
   "cell_type": "code",
   "execution_count": 42,
   "metadata": {
    "ExecuteTime": {
     "end_time": "2020-04-25T13:23:54.573020Z",
     "start_time": "2020-04-25T13:12:52.400005Z"
    },
    "hidden": true
   },
   "outputs": [
    {
     "name": "stdout",
     "output_type": "stream",
     "text": [
      "(808, 6)\n"
     ]
    }
   ],
   "source": [
    "driver_standings = {'season': [],\n",
    "                    'round':[],\n",
    "                    'driver': [],\n",
    "                    'driver_points': [],\n",
    "                    'driver_wins': [],\n",
    "                   'driver_standings_pos': []}\n",
    "\n",
    "for n in list(range(len(rounds))):\n",
    "    for i in rounds[n][1]:\n",
    "    \n",
    "        url = 'https://ergast.com/api/f1/{}/{}/driverStandings.json'\n",
    "        r = requests.get(url.format(rounds[n][0], i))\n",
    "        json = r.json()\n",
    "\n",
    "        for item in json['MRData']['StandingsTable']['StandingsLists'][0]['DriverStandings']:\n",
    "            try:\n",
    "                driver_standings['season'].append(int(json['MRData']['StandingsTable']['StandingsLists'][0]['season']))\n",
    "            except:\n",
    "                driver_standings['season'].append(None)\n",
    "\n",
    "            try:\n",
    "                driver_standings['round'].append(int(json['MRData']['StandingsTable']['StandingsLists'][0]['round']))\n",
    "            except:\n",
    "                driver_standings['round'].append(None)\n",
    "                                         \n",
    "            try:\n",
    "                driver_standings['driver'].append(item['Driver']['driverId'])\n",
    "            except:\n",
    "                driver_standings['driver'].append(None)\n",
    "            \n",
    "            try:\n",
    "                driver_standings['driver_points'].append(int(item['points']))\n",
    "            except:\n",
    "                driver_standings['driver_points'].append(None)\n",
    "            \n",
    "            try:\n",
    "                driver_standings['driver_wins'].append(int(item['wins']))\n",
    "            except:\n",
    "                driver_standings['driver_wins'].append(None)\n",
    "                \n",
    "            try:\n",
    "                driver_standings['driver_standings_pos'].append(int(item['position']))\n",
    "            except:\n",
    "                driver_standings['driver_standings_pos'].append(None)\n",
    "            \n",
    "driver_standings = pd.DataFrame(driver_standings)\n",
    "print(driver_standings.shape)\n"
   ]
  },
  {
   "cell_type": "code",
   "execution_count": 43,
   "metadata": {
    "ExecuteTime": {
     "end_time": "2020-04-25T13:28:00.343265Z",
     "start_time": "2020-04-25T13:28:00.187104Z"
    },
    "hidden": true
   },
   "outputs": [],
   "source": [
    "driver_standings = lookup(driver_standings, 'driver', 'driver_points')"
   ]
  },
  {
   "cell_type": "code",
   "execution_count": 44,
   "metadata": {
    "ExecuteTime": {
     "end_time": "2020-04-25T13:28:03.167215Z",
     "start_time": "2020-04-25T13:28:03.007873Z"
    },
    "hidden": true
   },
   "outputs": [],
   "source": [
    "driver_standings = lookup(driver_standings, 'driver', 'driver_wins')"
   ]
  },
  {
   "cell_type": "code",
   "execution_count": 45,
   "metadata": {
    "ExecuteTime": {
     "end_time": "2020-04-25T13:28:04.322862Z",
     "start_time": "2020-04-25T13:28:04.174248Z"
    },
    "hidden": true
   },
   "outputs": [],
   "source": [
    "driver_standings = lookup(driver_standings, 'driver', 'driver_standings_pos')"
   ]
  },
  {
   "cell_type": "code",
   "execution_count": 46,
   "metadata": {
    "ExecuteTime": {
     "end_time": "2020-04-25T13:28:05.342483Z",
     "start_time": "2020-04-25T13:28:05.325228Z"
    },
    "hidden": true
   },
   "outputs": [
    {
     "data": {
      "text/html": [
       "<div>\n",
       "<style scoped>\n",
       "    .dataframe tbody tr th:only-of-type {\n",
       "        vertical-align: middle;\n",
       "    }\n",
       "\n",
       "    .dataframe tbody tr th {\n",
       "        vertical-align: top;\n",
       "    }\n",
       "\n",
       "    .dataframe thead th {\n",
       "        text-align: right;\n",
       "    }\n",
       "</style>\n",
       "<table border=\"1\" class=\"dataframe\">\n",
       "  <thead>\n",
       "    <tr style=\"text-align: right;\">\n",
       "      <th></th>\n",
       "      <th>season</th>\n",
       "      <th>round</th>\n",
       "      <th>driver</th>\n",
       "      <th>driver_points_after_race</th>\n",
       "      <th>driver_wins_after_race</th>\n",
       "      <th>driver_standings_pos_after_race</th>\n",
       "      <th>driver_points</th>\n",
       "      <th>driver_wins</th>\n",
       "      <th>driver_standings_pos</th>\n",
       "    </tr>\n",
       "  </thead>\n",
       "  <tbody>\n",
       "    <tr>\n",
       "      <th>0</th>\n",
       "      <td>2020</td>\n",
       "      <td>1</td>\n",
       "      <td>bottas</td>\n",
       "      <td>25.0</td>\n",
       "      <td>1</td>\n",
       "      <td>1</td>\n",
       "      <td>0.0</td>\n",
       "      <td>0.0</td>\n",
       "      <td>0.0</td>\n",
       "    </tr>\n",
       "    <tr>\n",
       "      <th>1</th>\n",
       "      <td>2020</td>\n",
       "      <td>1</td>\n",
       "      <td>leclerc</td>\n",
       "      <td>18.0</td>\n",
       "      <td>0</td>\n",
       "      <td>2</td>\n",
       "      <td>0.0</td>\n",
       "      <td>0.0</td>\n",
       "      <td>0.0</td>\n",
       "    </tr>\n",
       "    <tr>\n",
       "      <th>2</th>\n",
       "      <td>2020</td>\n",
       "      <td>1</td>\n",
       "      <td>norris</td>\n",
       "      <td>16.0</td>\n",
       "      <td>0</td>\n",
       "      <td>3</td>\n",
       "      <td>0.0</td>\n",
       "      <td>0.0</td>\n",
       "      <td>0.0</td>\n",
       "    </tr>\n",
       "    <tr>\n",
       "      <th>3</th>\n",
       "      <td>2020</td>\n",
       "      <td>1</td>\n",
       "      <td>hamilton</td>\n",
       "      <td>12.0</td>\n",
       "      <td>0</td>\n",
       "      <td>4</td>\n",
       "      <td>0.0</td>\n",
       "      <td>0.0</td>\n",
       "      <td>0.0</td>\n",
       "    </tr>\n",
       "    <tr>\n",
       "      <th>4</th>\n",
       "      <td>2020</td>\n",
       "      <td>1</td>\n",
       "      <td>sainz</td>\n",
       "      <td>10.0</td>\n",
       "      <td>0</td>\n",
       "      <td>5</td>\n",
       "      <td>0.0</td>\n",
       "      <td>0.0</td>\n",
       "      <td>0.0</td>\n",
       "    </tr>\n",
       "  </tbody>\n",
       "</table>\n",
       "</div>"
      ],
      "text/plain": [
       "   season  round    driver  driver_points_after_race  driver_wins_after_race  \\\n",
       "0    2020      1    bottas                      25.0                       1   \n",
       "1    2020      1   leclerc                      18.0                       0   \n",
       "2    2020      1    norris                      16.0                       0   \n",
       "3    2020      1  hamilton                      12.0                       0   \n",
       "4    2020      1     sainz                      10.0                       0   \n",
       "\n",
       "   driver_standings_pos_after_race  driver_points  driver_wins  \\\n",
       "0                                1            0.0          0.0   \n",
       "1                                2            0.0          0.0   \n",
       "2                                3            0.0          0.0   \n",
       "3                                4            0.0          0.0   \n",
       "4                                5            0.0          0.0   \n",
       "\n",
       "   driver_standings_pos  \n",
       "0                   0.0  \n",
       "1                   0.0  \n",
       "2                   0.0  \n",
       "3                   0.0  \n",
       "4                   0.0  "
      ]
     },
     "execution_count": 46,
     "metadata": {},
     "output_type": "execute_result"
    }
   ],
   "source": [
    "driver_standings.head()"
   ]
  },
  {
   "cell_type": "code",
   "execution_count": 47,
   "metadata": {
    "ExecuteTime": {
     "end_time": "2020-04-25T13:30:38.070770Z",
     "start_time": "2020-04-25T13:30:38.044672Z"
    },
    "hidden": true
   },
   "outputs": [
    {
     "data": {
      "text/html": [
       "<div>\n",
       "<style scoped>\n",
       "    .dataframe tbody tr th:only-of-type {\n",
       "        vertical-align: middle;\n",
       "    }\n",
       "\n",
       "    .dataframe tbody tr th {\n",
       "        vertical-align: top;\n",
       "    }\n",
       "\n",
       "    .dataframe thead th {\n",
       "        text-align: right;\n",
       "    }\n",
       "</style>\n",
       "<table border=\"1\" class=\"dataframe\">\n",
       "  <thead>\n",
       "    <tr style=\"text-align: right;\">\n",
       "      <th></th>\n",
       "      <th>season</th>\n",
       "      <th>round</th>\n",
       "      <th>driver</th>\n",
       "      <th>driver_points_after_race</th>\n",
       "      <th>driver_wins_after_race</th>\n",
       "      <th>driver_standings_pos_after_race</th>\n",
       "      <th>driver_points</th>\n",
       "      <th>driver_wins</th>\n",
       "      <th>driver_standings_pos</th>\n",
       "    </tr>\n",
       "  </thead>\n",
       "  <tbody>\n",
       "    <tr>\n",
       "      <th>803</th>\n",
       "      <td>2021</td>\n",
       "      <td>22</td>\n",
       "      <td>latifi</td>\n",
       "      <td>7.0</td>\n",
       "      <td>0</td>\n",
       "      <td>17</td>\n",
       "      <td>7.0</td>\n",
       "      <td>0.0</td>\n",
       "      <td>17.0</td>\n",
       "    </tr>\n",
       "    <tr>\n",
       "      <th>804</th>\n",
       "      <td>2021</td>\n",
       "      <td>22</td>\n",
       "      <td>giovinazzi</td>\n",
       "      <td>3.0</td>\n",
       "      <td>0</td>\n",
       "      <td>18</td>\n",
       "      <td>3.0</td>\n",
       "      <td>0.0</td>\n",
       "      <td>18.0</td>\n",
       "    </tr>\n",
       "    <tr>\n",
       "      <th>805</th>\n",
       "      <td>2021</td>\n",
       "      <td>22</td>\n",
       "      <td>mick_schumacher</td>\n",
       "      <td>0.0</td>\n",
       "      <td>0</td>\n",
       "      <td>19</td>\n",
       "      <td>0.0</td>\n",
       "      <td>0.0</td>\n",
       "      <td>19.0</td>\n",
       "    </tr>\n",
       "    <tr>\n",
       "      <th>806</th>\n",
       "      <td>2021</td>\n",
       "      <td>22</td>\n",
       "      <td>kubica</td>\n",
       "      <td>0.0</td>\n",
       "      <td>0</td>\n",
       "      <td>20</td>\n",
       "      <td>0.0</td>\n",
       "      <td>0.0</td>\n",
       "      <td>20.0</td>\n",
       "    </tr>\n",
       "    <tr>\n",
       "      <th>807</th>\n",
       "      <td>2021</td>\n",
       "      <td>22</td>\n",
       "      <td>mazepin</td>\n",
       "      <td>0.0</td>\n",
       "      <td>0</td>\n",
       "      <td>21</td>\n",
       "      <td>0.0</td>\n",
       "      <td>0.0</td>\n",
       "      <td>21.0</td>\n",
       "    </tr>\n",
       "  </tbody>\n",
       "</table>\n",
       "</div>"
      ],
      "text/plain": [
       "     season  round           driver  driver_points_after_race  \\\n",
       "803    2021     22           latifi                       7.0   \n",
       "804    2021     22       giovinazzi                       3.0   \n",
       "805    2021     22  mick_schumacher                       0.0   \n",
       "806    2021     22           kubica                       0.0   \n",
       "807    2021     22          mazepin                       0.0   \n",
       "\n",
       "     driver_wins_after_race  driver_standings_pos_after_race  driver_points  \\\n",
       "803                       0                               17            7.0   \n",
       "804                       0                               18            3.0   \n",
       "805                       0                               19            0.0   \n",
       "806                       0                               20            0.0   \n",
       "807                       0                               21            0.0   \n",
       "\n",
       "     driver_wins  driver_standings_pos  \n",
       "803          0.0                  17.0  \n",
       "804          0.0                  18.0  \n",
       "805          0.0                  19.0  \n",
       "806          0.0                  20.0  \n",
       "807          0.0                  21.0  "
      ]
     },
     "execution_count": 47,
     "metadata": {},
     "output_type": "execute_result"
    }
   ],
   "source": [
    "driver_standings.tail()"
   ]
  },
  {
   "cell_type": "code",
   "execution_count": 55,
   "metadata": {
    "ExecuteTime": {
     "end_time": "2020-04-25T13:30:55.871283Z",
     "start_time": "2020-04-25T13:30:55.712834Z"
    },
    "hidden": true
   },
   "outputs": [],
   "source": [
    "driver_standings.to_csv('driver_standings2.csv', index = False)"
   ]
  },
  {
   "cell_type": "markdown",
   "metadata": {
    "ExecuteTime": {
     "end_time": "2020-04-25T10:23:46.100086Z",
     "start_time": "2020-04-25T10:23:46.095041Z"
    },
    "heading_collapsed": true
   },
   "source": [
    "## Constructor Standings"
   ]
  },
  {
   "cell_type": "code",
   "execution_count": 74,
   "metadata": {},
   "outputs": [
    {
     "data": {
      "text/plain": [
       "<function list.index(value, start=0, stop=9223372036854775807, /)>"
      ]
     },
     "execution_count": 74,
     "metadata": {},
     "output_type": "execute_result"
    }
   ],
   "source": [
    "rounds"
   ]
  },
  {
   "cell_type": "code",
   "execution_count": 75,
   "metadata": {
    "ExecuteTime": {
     "end_time": "2020-04-25T13:33:13.100176Z",
     "start_time": "2020-04-25T13:31:43.335877Z"
    },
    "hidden": true
   },
   "outputs": [
    {
     "name": "stdout",
     "output_type": "stream",
     "text": [
      "(390, 6)\n"
     ]
    }
   ],
   "source": [
    "constructor_rounds = rounds\n",
    "\n",
    "constructor_standings = {'season': [],\n",
    "                    'round':[],\n",
    "                    'constructor': [],\n",
    "                    'constructor_points': [],\n",
    "                    'constructor_wins': [],\n",
    "                   'constructor_standings_pos': []}\n",
    "\n",
    "for n in list(range(len(constructor_rounds))):\n",
    "    for i in constructor_rounds[n][1]:\n",
    "    \n",
    "        url = 'https://ergast.com/api/f1/{}/{}/constructorStandings.json'\n",
    "        r = requests.get(url.format(constructor_rounds[n][0], i))\n",
    "        json = r.json()\n",
    "\n",
    "        for item in json['MRData']['StandingsTable']['StandingsLists'][0]['ConstructorStandings']:\n",
    "            try:\n",
    "                constructor_standings['season'].append(int(json['MRData']['StandingsTable']['StandingsLists'][0]['season']))\n",
    "            except:\n",
    "                constructor_standings['season'].append(None)\n",
    "\n",
    "            try:\n",
    "                constructor_standings['round'].append(int(json['MRData']['StandingsTable']['StandingsLists'][0]['round']))\n",
    "            except:\n",
    "                constructor_standings['round'].append(None)\n",
    "                                         \n",
    "            try:\n",
    "                constructor_standings['constructor'].append(item['Constructor']['constructorId'])\n",
    "            except:\n",
    "                constructor_standings['constructor'].append(None)\n",
    "            \n",
    "            try:\n",
    "                constructor_standings['constructor_points'].append(int(item['points']))\n",
    "            except:\n",
    "                constructor_standings['constructor_points'].append(None)\n",
    "            \n",
    "            try:\n",
    "                constructor_standings['constructor_wins'].append(int(item['wins']))\n",
    "            except:\n",
    "                constructor_standings['constructor_wins'].append(None)\n",
    "                \n",
    "            try:\n",
    "                constructor_standings['constructor_standings_pos'].append(int(item['position']))\n",
    "            except:\n",
    "                constructor_standings['constructor_standings_pos'].append(None)\n",
    "            \n",
    "constructor_standings = pd.DataFrame(constructor_standings)\n",
    "print(constructor_standings.shape)\n"
   ]
  },
  {
   "cell_type": "code",
   "execution_count": 76,
   "metadata": {
    "ExecuteTime": {
     "end_time": "2020-04-25T13:33:19.312579Z",
     "start_time": "2020-04-25T13:33:19.223191Z"
    },
    "hidden": true
   },
   "outputs": [],
   "source": [
    "constructor_standings = lookup(constructor_standings, 'constructor', 'constructor_points')"
   ]
  },
  {
   "cell_type": "code",
   "execution_count": 77,
   "metadata": {
    "ExecuteTime": {
     "end_time": "2020-04-25T13:33:20.373131Z",
     "start_time": "2020-04-25T13:33:20.291395Z"
    },
    "hidden": true
   },
   "outputs": [],
   "source": [
    "constructor_standings = lookup(constructor_standings, 'constructor', 'constructor_wins')"
   ]
  },
  {
   "cell_type": "code",
   "execution_count": 78,
   "metadata": {
    "ExecuteTime": {
     "end_time": "2020-04-25T13:33:21.715298Z",
     "start_time": "2020-04-25T13:33:21.619260Z"
    },
    "hidden": true
   },
   "outputs": [],
   "source": [
    "constructor_standings = lookup(constructor_standings, 'constructor', 'constructor_standings_pos')"
   ]
  },
  {
   "cell_type": "code",
   "execution_count": 79,
   "metadata": {
    "ExecuteTime": {
     "end_time": "2020-04-25T13:33:23.914229Z",
     "start_time": "2020-04-25T13:33:23.897644Z"
    },
    "hidden": true
   },
   "outputs": [
    {
     "data": {
      "text/html": [
       "<div>\n",
       "<style scoped>\n",
       "    .dataframe tbody tr th:only-of-type {\n",
       "        vertical-align: middle;\n",
       "    }\n",
       "\n",
       "    .dataframe tbody tr th {\n",
       "        vertical-align: top;\n",
       "    }\n",
       "\n",
       "    .dataframe thead th {\n",
       "        text-align: right;\n",
       "    }\n",
       "</style>\n",
       "<table border=\"1\" class=\"dataframe\">\n",
       "  <thead>\n",
       "    <tr style=\"text-align: right;\">\n",
       "      <th></th>\n",
       "      <th>season</th>\n",
       "      <th>round</th>\n",
       "      <th>constructor</th>\n",
       "      <th>constructor_points_after_race</th>\n",
       "      <th>constructor_wins_after_race</th>\n",
       "      <th>constructor_standings_pos_after_race</th>\n",
       "      <th>constructor_points</th>\n",
       "      <th>constructor_wins</th>\n",
       "      <th>constructor_standings_pos</th>\n",
       "    </tr>\n",
       "  </thead>\n",
       "  <tbody>\n",
       "    <tr>\n",
       "      <th>0</th>\n",
       "      <td>2020</td>\n",
       "      <td>1</td>\n",
       "      <td>mercedes</td>\n",
       "      <td>37.0</td>\n",
       "      <td>1</td>\n",
       "      <td>1</td>\n",
       "      <td>0.0</td>\n",
       "      <td>0.0</td>\n",
       "      <td>0.0</td>\n",
       "    </tr>\n",
       "    <tr>\n",
       "      <th>1</th>\n",
       "      <td>2020</td>\n",
       "      <td>1</td>\n",
       "      <td>mclaren</td>\n",
       "      <td>26.0</td>\n",
       "      <td>0</td>\n",
       "      <td>2</td>\n",
       "      <td>0.0</td>\n",
       "      <td>0.0</td>\n",
       "      <td>0.0</td>\n",
       "    </tr>\n",
       "    <tr>\n",
       "      <th>2</th>\n",
       "      <td>2020</td>\n",
       "      <td>1</td>\n",
       "      <td>ferrari</td>\n",
       "      <td>19.0</td>\n",
       "      <td>0</td>\n",
       "      <td>3</td>\n",
       "      <td>0.0</td>\n",
       "      <td>0.0</td>\n",
       "      <td>0.0</td>\n",
       "    </tr>\n",
       "    <tr>\n",
       "      <th>3</th>\n",
       "      <td>2020</td>\n",
       "      <td>1</td>\n",
       "      <td>racing_point</td>\n",
       "      <td>8.0</td>\n",
       "      <td>0</td>\n",
       "      <td>4</td>\n",
       "      <td>0.0</td>\n",
       "      <td>0.0</td>\n",
       "      <td>0.0</td>\n",
       "    </tr>\n",
       "    <tr>\n",
       "      <th>4</th>\n",
       "      <td>2020</td>\n",
       "      <td>1</td>\n",
       "      <td>alphatauri</td>\n",
       "      <td>6.0</td>\n",
       "      <td>0</td>\n",
       "      <td>5</td>\n",
       "      <td>0.0</td>\n",
       "      <td>0.0</td>\n",
       "      <td>0.0</td>\n",
       "    </tr>\n",
       "  </tbody>\n",
       "</table>\n",
       "</div>"
      ],
      "text/plain": [
       "   season  round   constructor  constructor_points_after_race  \\\n",
       "0    2020      1      mercedes                           37.0   \n",
       "1    2020      1       mclaren                           26.0   \n",
       "2    2020      1       ferrari                           19.0   \n",
       "3    2020      1  racing_point                            8.0   \n",
       "4    2020      1    alphatauri                            6.0   \n",
       "\n",
       "   constructor_wins_after_race  constructor_standings_pos_after_race  \\\n",
       "0                            1                                     1   \n",
       "1                            0                                     2   \n",
       "2                            0                                     3   \n",
       "3                            0                                     4   \n",
       "4                            0                                     5   \n",
       "\n",
       "   constructor_points  constructor_wins  constructor_standings_pos  \n",
       "0                 0.0               0.0                        0.0  \n",
       "1                 0.0               0.0                        0.0  \n",
       "2                 0.0               0.0                        0.0  \n",
       "3                 0.0               0.0                        0.0  \n",
       "4                 0.0               0.0                        0.0  "
      ]
     },
     "execution_count": 79,
     "metadata": {},
     "output_type": "execute_result"
    }
   ],
   "source": [
    "constructor_standings.head()"
   ]
  },
  {
   "cell_type": "code",
   "execution_count": 80,
   "metadata": {
    "ExecuteTime": {
     "end_time": "2020-04-25T13:33:36.174178Z",
     "start_time": "2020-04-25T13:33:36.155411Z"
    },
    "hidden": true
   },
   "outputs": [
    {
     "data": {
      "text/html": [
       "<div>\n",
       "<style scoped>\n",
       "    .dataframe tbody tr th:only-of-type {\n",
       "        vertical-align: middle;\n",
       "    }\n",
       "\n",
       "    .dataframe tbody tr th {\n",
       "        vertical-align: top;\n",
       "    }\n",
       "\n",
       "    .dataframe thead th {\n",
       "        text-align: right;\n",
       "    }\n",
       "</style>\n",
       "<table border=\"1\" class=\"dataframe\">\n",
       "  <thead>\n",
       "    <tr style=\"text-align: right;\">\n",
       "      <th></th>\n",
       "      <th>season</th>\n",
       "      <th>round</th>\n",
       "      <th>constructor</th>\n",
       "      <th>constructor_points_after_race</th>\n",
       "      <th>constructor_wins_after_race</th>\n",
       "      <th>constructor_standings_pos_after_race</th>\n",
       "      <th>constructor_points</th>\n",
       "      <th>constructor_wins</th>\n",
       "      <th>constructor_standings_pos</th>\n",
       "    </tr>\n",
       "  </thead>\n",
       "  <tbody>\n",
       "    <tr>\n",
       "      <th>385</th>\n",
       "      <td>2021</td>\n",
       "      <td>22</td>\n",
       "      <td>alphatauri</td>\n",
       "      <td>142.0</td>\n",
       "      <td>0</td>\n",
       "      <td>6</td>\n",
       "      <td>120.0</td>\n",
       "      <td>0.0</td>\n",
       "      <td>6.0</td>\n",
       "    </tr>\n",
       "    <tr>\n",
       "      <th>386</th>\n",
       "      <td>2021</td>\n",
       "      <td>22</td>\n",
       "      <td>aston_martin</td>\n",
       "      <td>77.0</td>\n",
       "      <td>0</td>\n",
       "      <td>7</td>\n",
       "      <td>77.0</td>\n",
       "      <td>0.0</td>\n",
       "      <td>7.0</td>\n",
       "    </tr>\n",
       "    <tr>\n",
       "      <th>387</th>\n",
       "      <td>2021</td>\n",
       "      <td>22</td>\n",
       "      <td>williams</td>\n",
       "      <td>23.0</td>\n",
       "      <td>0</td>\n",
       "      <td>8</td>\n",
       "      <td>23.0</td>\n",
       "      <td>0.0</td>\n",
       "      <td>8.0</td>\n",
       "    </tr>\n",
       "    <tr>\n",
       "      <th>388</th>\n",
       "      <td>2021</td>\n",
       "      <td>22</td>\n",
       "      <td>alfa</td>\n",
       "      <td>13.0</td>\n",
       "      <td>0</td>\n",
       "      <td>9</td>\n",
       "      <td>13.0</td>\n",
       "      <td>0.0</td>\n",
       "      <td>9.0</td>\n",
       "    </tr>\n",
       "    <tr>\n",
       "      <th>389</th>\n",
       "      <td>2021</td>\n",
       "      <td>22</td>\n",
       "      <td>haas</td>\n",
       "      <td>0.0</td>\n",
       "      <td>0</td>\n",
       "      <td>10</td>\n",
       "      <td>0.0</td>\n",
       "      <td>0.0</td>\n",
       "      <td>10.0</td>\n",
       "    </tr>\n",
       "  </tbody>\n",
       "</table>\n",
       "</div>"
      ],
      "text/plain": [
       "     season  round   constructor  constructor_points_after_race  \\\n",
       "385    2021     22    alphatauri                          142.0   \n",
       "386    2021     22  aston_martin                           77.0   \n",
       "387    2021     22      williams                           23.0   \n",
       "388    2021     22          alfa                           13.0   \n",
       "389    2021     22          haas                            0.0   \n",
       "\n",
       "     constructor_wins_after_race  constructor_standings_pos_after_race  \\\n",
       "385                            0                                     6   \n",
       "386                            0                                     7   \n",
       "387                            0                                     8   \n",
       "388                            0                                     9   \n",
       "389                            0                                    10   \n",
       "\n",
       "     constructor_points  constructor_wins  constructor_standings_pos  \n",
       "385               120.0               0.0                        6.0  \n",
       "386                77.0               0.0                        7.0  \n",
       "387                23.0               0.0                        8.0  \n",
       "388                13.0               0.0                        9.0  \n",
       "389                 0.0               0.0                       10.0  "
      ]
     },
     "execution_count": 80,
     "metadata": {},
     "output_type": "execute_result"
    }
   ],
   "source": [
    "constructor_standings.tail()"
   ]
  },
  {
   "cell_type": "code",
   "execution_count": 62,
   "metadata": {
    "ExecuteTime": {
     "end_time": "2020-04-25T13:33:39.195368Z",
     "start_time": "2020-04-25T13:33:39.086607Z"
    },
    "hidden": true
   },
   "outputs": [],
   "source": [
    "constructor_standings.to_csv('constructor_standings2.csv', index = False)"
   ]
  }
 ],
 "metadata": {
  "kernelspec": {
   "display_name": "Python 3.10.2 64-bit",
   "language": "python",
   "name": "python3"
  },
  "language_info": {
   "codemirror_mode": {
    "name": "ipython",
    "version": 3
   },
   "file_extension": ".py",
   "mimetype": "text/x-python",
   "name": "python",
   "nbconvert_exporter": "python",
   "pygments_lexer": "ipython3",
   "version": "3.10.2"
  },
  "varInspector": {
   "cols": {
    "lenName": 16,
    "lenType": 16,
    "lenVar": 40
   },
   "kernels_config": {
    "python": {
     "delete_cmd_postfix": "",
     "delete_cmd_prefix": "del ",
     "library": "var_list.py",
     "varRefreshCmd": "print(var_dic_list())"
    },
    "r": {
     "delete_cmd_postfix": ") ",
     "delete_cmd_prefix": "rm(",
     "library": "var_list.r",
     "varRefreshCmd": "cat(var_dic_list()) "
    }
   },
   "types_to_exclude": [
    "module",
    "function",
    "builtin_function_or_method",
    "instance",
    "_Feature"
   ],
   "window_display": false
  },
  "vscode": {
   "interpreter": {
    "hash": "64465041b0ed70b6cad4b35e1905bd97afb490545b761b3840611596fd92b8a8"
   }
  }
 },
 "nbformat": 4,
 "nbformat_minor": 4
}
